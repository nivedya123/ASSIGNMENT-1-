{
  "nbformat": 4,
  "nbformat_minor": 0,
  "metadata": {
    "colab": {
      "name": "ASSIGNMENT 2 (bar_chart).ipynb",
      "provenance": []
    },
    "kernelspec": {
      "name": "python3",
      "display_name": "Python 3"
    },
    "language_info": {
      "name": "python"
    }
  },
  "cells": [
    {
      "cell_type": "markdown",
      "metadata": {
        "id": "3RBvnXw7I33w"
      },
      "source": [
        " QUESTION 1 : \n",
        "Create a dataframe with 10 rows on random numbers and 4 columns, (columns labelled as a,b,c,d) and plot a bar chart.\n"
      ]
    },
    {
      "cell_type": "code",
      "metadata": {
        "id": "uSj67yfpI_nH"
      },
      "source": [
        "#importing libraries\n",
        "\n",
        "import pandas as pd\n",
        "import numpy as np\n",
        "import matplotlib as mpl\n",
        "import matplotlib.pyplot as plt\n",
        "% matplotlib inline"
      ],
      "execution_count": 8,
      "outputs": []
    },
    {
      "cell_type": "code",
      "metadata": {
        "id": "FY-uV5chJZrc"
      },
      "source": [
        "#import random numbers\n",
        "from numpy.random import randn\n"
      ],
      "execution_count": 16,
      "outputs": []
    },
    {
      "cell_type": "code",
      "metadata": {
        "colab": {
          "base_uri": "https://localhost:8080/"
        },
        "id": "HD7_e7bvL6qq",
        "outputId": "a7e25472-48a7-46d2-95bb-85cf2e20a838"
      },
      "source": [
        "df = pd.DataFrame(np.random.randint(0,100,size=(10, 4)), columns=list('abcd'))\n",
        "print(df)"
      ],
      "execution_count": 25,
      "outputs": [
        {
          "output_type": "stream",
          "text": [
            "    a   b   c   d\n",
            "0  79  94  63  21\n",
            "1  50   0  45  93\n",
            "2  10   5  52  98\n",
            "3  19  88  20  17\n",
            "4  84  83   8  19\n",
            "5  69  35  86  93\n",
            "6  84  24  82  87\n",
            "7  14  21  63  78\n",
            "8   6  56  32  60\n",
            "9  63  27  23  29\n"
          ],
          "name": "stdout"
        }
      ]
    },
    {
      "cell_type": "code",
      "metadata": {
        "colab": {
          "base_uri": "https://localhost:8080/",
          "height": 262
        },
        "id": "mUghu3s9Mygx",
        "outputId": "2c3f4571-3a43-4c2b-b063-35ffbc5316a3"
      },
      "source": [
        "df.plot.bar()\n",
        "plt.show()"
      ],
      "execution_count": 34,
      "outputs": [
        {
          "output_type": "display_data",
          "data": {
            "image/png": "[encoded data removed]",
            "text/plain": [
              "<Figure size 432x288 with 1 Axes>"
            ]
          },
          "metadata": {
            "tags": [],
            "needs_background": "light"
          }
        }
      ]
    }
  ]
}